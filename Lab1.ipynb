{
 "cells": [
  {
   "cell_type": "markdown",
   "metadata": {},
   "source": [
    "# Laboratorio regresión lineal "
   ]
  },
  {
   "cell_type": "markdown",
   "metadata": {},
   "source": [
    "José Cifuentes - 17509"
   ]
  },
  {
   "cell_type": "code",
   "execution_count": 1,
   "metadata": {},
   "outputs": [
    {
     "data": {
      "text/html": [
       "<div>\n",
       "<style scoped>\n",
       "    .dataframe tbody tr th:only-of-type {\n",
       "        vertical-align: middle;\n",
       "    }\n",
       "\n",
       "    .dataframe tbody tr th {\n",
       "        vertical-align: top;\n",
       "    }\n",
       "\n",
       "    .dataframe thead th {\n",
       "        text-align: right;\n",
       "    }\n",
       "</style>\n",
       "<table border=\"1\" class=\"dataframe\">\n",
       "  <thead>\n",
       "    <tr style=\"text-align: right;\">\n",
       "      <th></th>\n",
       "      <th>Serial No.</th>\n",
       "      <th>GRE Score</th>\n",
       "      <th>TOEFL Score</th>\n",
       "      <th>University Rating</th>\n",
       "      <th>SOP</th>\n",
       "      <th>LOR</th>\n",
       "      <th>CGPA</th>\n",
       "      <th>Research</th>\n",
       "      <th>Chance of Admit</th>\n",
       "    </tr>\n",
       "  </thead>\n",
       "  <tbody>\n",
       "    <tr>\n",
       "      <th>Serial No.</th>\n",
       "      <td>1.000000</td>\n",
       "      <td>-0.097526</td>\n",
       "      <td>-0.147932</td>\n",
       "      <td>-0.169948</td>\n",
       "      <td>-0.166932</td>\n",
       "      <td>-0.088221</td>\n",
       "      <td>-0.045608</td>\n",
       "      <td>-0.063138</td>\n",
       "      <td>0.042336</td>\n",
       "    </tr>\n",
       "    <tr>\n",
       "      <th>GRE Score</th>\n",
       "      <td>-0.097526</td>\n",
       "      <td>1.000000</td>\n",
       "      <td>0.835977</td>\n",
       "      <td>0.668976</td>\n",
       "      <td>0.612831</td>\n",
       "      <td>0.557555</td>\n",
       "      <td>0.833060</td>\n",
       "      <td>0.580391</td>\n",
       "      <td>0.802610</td>\n",
       "    </tr>\n",
       "    <tr>\n",
       "      <th>TOEFL Score</th>\n",
       "      <td>-0.147932</td>\n",
       "      <td>0.835977</td>\n",
       "      <td>1.000000</td>\n",
       "      <td>0.695590</td>\n",
       "      <td>0.657981</td>\n",
       "      <td>0.567721</td>\n",
       "      <td>0.828417</td>\n",
       "      <td>0.489858</td>\n",
       "      <td>0.791594</td>\n",
       "    </tr>\n",
       "    <tr>\n",
       "      <th>University Rating</th>\n",
       "      <td>-0.169948</td>\n",
       "      <td>0.668976</td>\n",
       "      <td>0.695590</td>\n",
       "      <td>1.000000</td>\n",
       "      <td>0.734523</td>\n",
       "      <td>0.660123</td>\n",
       "      <td>0.746479</td>\n",
       "      <td>0.447783</td>\n",
       "      <td>0.711250</td>\n",
       "    </tr>\n",
       "    <tr>\n",
       "      <th>SOP</th>\n",
       "      <td>-0.166932</td>\n",
       "      <td>0.612831</td>\n",
       "      <td>0.657981</td>\n",
       "      <td>0.734523</td>\n",
       "      <td>1.000000</td>\n",
       "      <td>0.729593</td>\n",
       "      <td>0.718144</td>\n",
       "      <td>0.444029</td>\n",
       "      <td>0.675732</td>\n",
       "    </tr>\n",
       "    <tr>\n",
       "      <th>LOR</th>\n",
       "      <td>-0.088221</td>\n",
       "      <td>0.557555</td>\n",
       "      <td>0.567721</td>\n",
       "      <td>0.660123</td>\n",
       "      <td>0.729593</td>\n",
       "      <td>1.000000</td>\n",
       "      <td>0.670211</td>\n",
       "      <td>0.396859</td>\n",
       "      <td>0.669889</td>\n",
       "    </tr>\n",
       "    <tr>\n",
       "      <th>CGPA</th>\n",
       "      <td>-0.045608</td>\n",
       "      <td>0.833060</td>\n",
       "      <td>0.828417</td>\n",
       "      <td>0.746479</td>\n",
       "      <td>0.718144</td>\n",
       "      <td>0.670211</td>\n",
       "      <td>1.000000</td>\n",
       "      <td>0.521654</td>\n",
       "      <td>0.873289</td>\n",
       "    </tr>\n",
       "    <tr>\n",
       "      <th>Research</th>\n",
       "      <td>-0.063138</td>\n",
       "      <td>0.580391</td>\n",
       "      <td>0.489858</td>\n",
       "      <td>0.447783</td>\n",
       "      <td>0.444029</td>\n",
       "      <td>0.396859</td>\n",
       "      <td>0.521654</td>\n",
       "      <td>1.000000</td>\n",
       "      <td>0.553202</td>\n",
       "    </tr>\n",
       "    <tr>\n",
       "      <th>Chance of Admit</th>\n",
       "      <td>0.042336</td>\n",
       "      <td>0.802610</td>\n",
       "      <td>0.791594</td>\n",
       "      <td>0.711250</td>\n",
       "      <td>0.675732</td>\n",
       "      <td>0.669889</td>\n",
       "      <td>0.873289</td>\n",
       "      <td>0.553202</td>\n",
       "      <td>1.000000</td>\n",
       "    </tr>\n",
       "  </tbody>\n",
       "</table>\n",
       "</div>"
      ],
      "text/plain": [
       "                   Serial No.  GRE Score  TOEFL Score  University Rating  \\\n",
       "Serial No.           1.000000  -0.097526    -0.147932          -0.169948   \n",
       "GRE Score           -0.097526   1.000000     0.835977           0.668976   \n",
       "TOEFL Score         -0.147932   0.835977     1.000000           0.695590   \n",
       "University Rating   -0.169948   0.668976     0.695590           1.000000   \n",
       "SOP                 -0.166932   0.612831     0.657981           0.734523   \n",
       "LOR                 -0.088221   0.557555     0.567721           0.660123   \n",
       "CGPA                -0.045608   0.833060     0.828417           0.746479   \n",
       "Research            -0.063138   0.580391     0.489858           0.447783   \n",
       "Chance of Admit      0.042336   0.802610     0.791594           0.711250   \n",
       "\n",
       "                        SOP      LOR       CGPA  Research  Chance of Admit   \n",
       "Serial No.        -0.166932 -0.088221 -0.045608 -0.063138          0.042336  \n",
       "GRE Score          0.612831  0.557555  0.833060  0.580391          0.802610  \n",
       "TOEFL Score        0.657981  0.567721  0.828417  0.489858          0.791594  \n",
       "University Rating  0.734523  0.660123  0.746479  0.447783          0.711250  \n",
       "SOP                1.000000  0.729593  0.718144  0.444029          0.675732  \n",
       "LOR                0.729593  1.000000  0.670211  0.396859          0.669889  \n",
       "CGPA               0.718144  0.670211  1.000000  0.521654          0.873289  \n",
       "Research           0.444029  0.396859  0.521654  1.000000          0.553202  \n",
       "Chance of Admit    0.675732  0.669889  0.873289  0.553202          1.000000  "
      ]
     },
     "execution_count": 1,
     "metadata": {},
     "output_type": "execute_result"
    }
   ],
   "source": [
    "import pandas as pd\n",
    "df=pd.read_csv(\"Admission_Predict.csv\")\n",
    "df.corr(method=\"pearson\")"
   ]
  },
  {
   "cell_type": "markdown",
   "metadata": {},
   "source": [
    "\n",
    "Como podemos observar, la ultima columna se muestr la correlación de Pearson entre el Chance of Admit y todas las variables. Las variables que más se relacionan son el GRE Score y TOEFL Score, por lo que intentaremos hacer un modelo con estas dos variables. \n"
   ]
  },
  {
   "cell_type": "code",
   "execution_count": 1,
   "metadata": {},
   "outputs": [
    {
     "data": {
      "image/png": "[encoded data removed]",
      "text/plain": [
       "<Figure size 432x288 with 1 Axes>"
      ]
     },
     "metadata": {
      "needs_background": "light"
     },
     "output_type": "display_data"
    }
   ],
   "source": [
    "import numpy as np\n",
    "from matplotlib import pyplot as plt\n",
    "\n",
    "from datasets import dataset_1,calculoDeErrorCross,XBad,calculoDeErrorTest\n",
    "from gradient_descent import gradient_descent\n",
    "from linear_cost import linear_cost\n",
    "from linear_cost_derivate import linear_cost_derivate\n",
    "\n",
    "# Training data\n",
    "(X, y) = dataset_1\n",
    "m, n = X.shape\n",
    "theta_0 = np.random.rand(n, 1)\n",
    "\n",
    "theta, costs, gradient_norms = gradient_descent(\n",
    "\t    XBad,\n",
    "\t    y,\n",
    "\t    theta_0,\n",
    "\t    linear_cost,\n",
    "\t    linear_cost_derivate,\n",
    "\t    alpha=0.0000001, #tamaño de pasos 0.00001 0.0000001\n",
    "\t    treshold=0.001,#Que tanto quiero que se apegue al 0 en el gradient descent\n",
    "\t    max_iter=10000,\n",
    "\t    Lambda=3 #regularizacion, que tanto quiero que se apegue a mis datos\n",
    "\t)\n",
    "\n",
    "#puntos de datos\n",
    "plt.scatter(X[:, 1], y,label='Valor real') \n",
    "\n",
    "#Puntos de regresion\n",
    "plt.scatter(X[:, 1], np.matmul(X, theta), color='red',label='Predicción')\n",
    "\n",
    "plt.legend()\n",
    "plt.show()"
   ]
  },
  {
   "cell_type": "markdown",
   "metadata": {},
   "source": [
    "La grafica de arriba muestra el resultado si solo metemos las dos columnas que deseamos utilizar, esto pasa ya que ambas columnas tienen rangos de valores muy diferentes. GRE Scores tiene un rango de 290 a 340, mientras que TOEFL Scores tiene un rango de 92 a 120.\n",
    "\n",
    "Lo que debemos hacer es operar un poco ambas columnas para que nos de un rango de valores parecidas para ambas variables.\n",
    "\n",
    "Tras varias pruebas, llegue a un rango que me parece aceptable. A la columna de GRE Scores la elevo al cuadrado y la divido dentro de 200, mientras que TOEFL Scores  lo elevo al cubo y lo divido dentro de 1500. Con estas modificaciones se logra tener un rango de 519 a 1156 en ambas variables. "
   ]
  },
  {
   "cell_type": "code",
   "execution_count": 4,
   "metadata": {
    "scrolled": false
   },
   "outputs": [
    {
     "data": {
      "image/png": "[encoded data removed]",
      "text/plain": [
       "<Figure size 432x288 with 1 Axes>"
      ]
     },
     "metadata": {
      "needs_background": "light"
     },
     "output_type": "display_data"
    }
   ],
   "source": [
    "import numpy as np\n",
    "from matplotlib import pyplot as plt\n",
    "\n",
    "from datasets import dataset_1,calculoDeErrorCross,XBad,calculoDeErrorTest\n",
    "from gradient_descent import gradient_descent\n",
    "from linear_cost import linear_cost\n",
    "from linear_cost_derivate import linear_cost_derivate\n",
    "\n",
    "# Training data\n",
    "(X, y) = dataset_1\n",
    "m, n = X.shape\n",
    "theta_0 = np.random.rand(n, 1)\n",
    "\n",
    "for i in range(3):\n",
    "    theta, costs, gradient_norms = gradient_descent(\n",
    "            X,\n",
    "            y,\n",
    "            theta_0,\n",
    "            linear_cost,\n",
    "            linear_cost_derivate,\n",
    "            alpha=0.0000001, #tamaño de pasos 0.00001 0.0000001\n",
    "            treshold=0.001,#Que tanto quiero que se apegue al 0 en el gradient descent\n",
    "            max_iter=10000,\n",
    "            Lambda=50 #regularizacion, que tanto quiero que se apegue a mis datos\n",
    "        )\n",
    "\n",
    "#puntos de datos\n",
    "plt.scatter(X[:, 1], y,label='Valor real') \n",
    "\n",
    "#Puntos de regresion\n",
    "plt.scatter(X[:, 1], np.matmul(X, theta), color='red',label='Predicción')\n",
    "\n",
    "plt.legend()\n",
    "plt.show()"
   ]
  },
  {
   "cell_type": "markdown",
   "metadata": {},
   "source": [
    "A continuación se saca el porcentaje de error del modelo"
   ]
  },
  {
   "cell_type": "code",
   "execution_count": 5,
   "metadata": {},
   "outputs": [
    {
     "data": {
      "text/plain": [
       "29.263885797322462"
      ]
     },
     "execution_count": 5,
     "metadata": {},
     "output_type": "execute_result"
    }
   ],
   "source": [
    "calculoDeErrorCross(theta)"
   ]
  },
  {
   "cell_type": "markdown",
   "metadata": {},
   "source": [
    "Este no es un buen porcentaje de error, esto se puede deber al Lambda de nuestro modelo, busquemos uno mejor."
   ]
  },
  {
   "cell_type": "code",
   "execution_count": 8,
   "metadata": {},
   "outputs": [
    {
     "name": "stdout",
     "output_type": "stream",
     "text": [
      "Lambda 1\t-\t11.784965211816278\n",
      "Lambda 2\t-\t11.250959051806769\n",
      "Lambda 3\t-\t11.343164764625106\n",
      "Lambda 4\t-\t11.512099977042054\n",
      "Lambda 5\t-\t11.771622812464917\n",
      "Lambda 6\t-\t12.090179994142963\n",
      "Lambda 7\t-\t12.414646739324084\n",
      "Lambda 8\t-\t12.739433421906442\n",
      "Lambda 9\t-\t13.068618355191893\n",
      "Lambda 10\t-\t13.426069294296259\n",
      "Lambda 11\t-\t13.821147016173342\n",
      "Lambda 12\t-\t14.230025676505111\n",
      "Lambda 13\t-\t14.638755889888197\n",
      "Lambda 14\t-\t15.047338505425497\n",
      "Lambda 15\t-\t15.45577435517725\n",
      "Lambda 16\t-\t15.876036269366875\n",
      "Lambda 17\t-\t16.325625820392986\n",
      "Lambda 18\t-\t16.78251144842628\n",
      "Lambda 19\t-\t17.239370482775158\n"
     ]
    }
   ],
   "source": [
    "for i in range(1,20):\n",
    "\ttheta, costs, gradient_norms = gradient_descent(\n",
    "\t    X,\n",
    "\t    y,\n",
    "\t    theta_0,\n",
    "\t    linear_cost,\n",
    "\t    linear_cost_derivate,\n",
    "\t    alpha=0.0000001, #tamaño de pasos\n",
    "\t    treshold=0.001,#Que tanto quiero que se apegue al 0 en el gradient descent\n",
    "\t    max_iter=10000,\n",
    "\t    Lambda=i #regularizacion, que tanto quiero que se apegue a mis datos\n",
    "\t)\n",
    "\n",
    "\t#linearCosts.append(linear_cost(X,y,theta,1))\n",
    "\t#linearCosts.append(calculoDeErrorCross(theta))\n",
    "\t#iteration.append(i)\n",
    "\tprint(\"Lambda \"+str(i)+\"\\t-\\t\"+str(calculoDeErrorCross(theta)))"
   ]
  },
  {
   "cell_type": "markdown",
   "metadata": {},
   "source": [
    "Analizando los resultados, seleccionamos nuestro nuevo Lambda"
   ]
  },
  {
   "cell_type": "code",
   "execution_count": 10,
   "metadata": {},
   "outputs": [
    {
     "data": {
      "image/png": "[encoded data removed]",
      "text/plain": [
       "<Figure size 432x288 with 1 Axes>"
      ]
     },
     "metadata": {
      "needs_background": "light"
     },
     "output_type": "display_data"
    }
   ],
   "source": [
    "for i in range(3):\n",
    "    theta, costs, gradient_norms = gradient_descent(\n",
    "            X,\n",
    "            y,\n",
    "            theta_0,\n",
    "            linear_cost,\n",
    "            linear_cost_derivate,\n",
    "            alpha=0.0000001, #tamaño de pasos 0.00001 0.0000001\n",
    "            treshold=0.001,#Que tanto quiero que se apegue al 0 en el gradient descent\n",
    "            max_iter=10000,\n",
    "            Lambda=2 #regularizacion, que tanto quiero que se apegue a mis datos\n",
    "        )\n",
    "\n",
    "#puntos de datos\n",
    "plt.scatter(X[:, 1], y,label='Valor real') \n",
    "\n",
    "#Puntos de regresion\n",
    "plt.scatter(X[:, 1], np.matmul(X, theta), color='red',label='Predicción')\n",
    "\n",
    "plt.legend()\n",
    "plt.show()"
   ]
  },
  {
   "cell_type": "markdown",
   "metadata": {},
   "source": [
    "A continuación se saca el porcentaje de error del modelo"
   ]
  },
  {
   "cell_type": "code",
   "execution_count": 11,
   "metadata": {},
   "outputs": [
    {
     "data": {
      "text/plain": [
       "11.583199919307324"
      ]
     },
     "execution_count": 11,
     "metadata": {},
     "output_type": "execute_result"
    }
   ],
   "source": [
    "calculoDeErrorCross(theta)"
   ]
  },
  {
   "cell_type": "markdown",
   "metadata": {},
   "source": [
    "Este ya es un porcentaje de error aceptable.Ya que estamos conformes con nuestro modelo, veamos cual es el porcentaje de error del test set"
   ]
  },
  {
   "cell_type": "code",
   "execution_count": 13,
   "metadata": {},
   "outputs": [
    {
     "data": {
      "text/plain": [
       "9.134094899751805"
      ]
     },
     "execution_count": 13,
     "metadata": {},
     "output_type": "execute_result"
    }
   ],
   "source": [
    "calculoDeErrorTest(theta)"
   ]
  },
  {
   "cell_type": "markdown",
   "metadata": {},
   "source": [
    "Los porcentajes de error del cross validation y del test set son muy similares, por lo que podemos asegurar que nuestro modelo es independiente del set de datos que usamos para entrenar. Esto quiere decir que mantendremos un porcentaje de error similar para cualquier set de datos. "
   ]
  }
 ],
 "metadata": {
  "kernelspec": {
   "display_name": "Python 3",
   "language": "python",
   "name": "python3"
  },
  "language_info": {
   "codemirror_mode": {
    "name": "ipython",
    "version": 3
   },
   "file_extension": ".py",
   "mimetype": "text/x-python",
   "name": "python",
   "nbconvert_exporter": "python",
   "pygments_lexer": "ipython3",
   "version": "3.7.2"
  }
 },
 "nbformat": 4,
 "nbformat_minor": 4
}
